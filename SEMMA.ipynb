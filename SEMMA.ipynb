{
  "nbformat": 4,
  "nbformat_minor": 0,
  "metadata": {
    "colab": {
      "provenance": [],
      "authorship_tag": "ABX9TyPDlMwg0liCy7cpAGMro/OG",
      "include_colab_link": true
    },
    "kernelspec": {
      "name": "python3",
      "display_name": "Python 3"
    },
    "language_info": {
      "name": "python"
    }
  },
  "cells": [
    {
      "cell_type": "markdown",
      "metadata": {
        "id": "view-in-github",
        "colab_type": "text"
      },
      "source": [
        "<a href=\"https://colab.research.google.com/github/PallaviVangari/DataMiningAssignment3/blob/main/SEMMA.ipynb\" target=\"_parent\"><img src=\"https://colab.research.google.com/assets/colab-badge.svg\" alt=\"Open In Colab\"/></a>"
      ]
    },
    {
      "cell_type": "code",
      "execution_count": null,
      "metadata": {
        "colab": {
          "base_uri": "https://localhost:8080/"
        },
        "id": "hextJdy-3Z-c",
        "outputId": "0728328f-a133-4e94-d2ae-0ac9c5c794e3"
      },
      "outputs": [
        {
          "output_type": "stream",
          "name": "stdout",
          "text": [
            "Performance Metrics for Logistic Regression:\n",
            "Accuracy: 0.8784530386740331\n",
            "Precision: 0.4318181818181818\n",
            "Recall: 0.3877551020408163\n",
            "F1-Score: 0.4086021505376344\n",
            "Confusion Matrix:\n",
            "[[757  50]\n",
            " [ 60  38]]\n",
            "\n",
            "Performance Metrics for Decision Tree:\n",
            "Accuracy: 0.8530386740331491\n",
            "Precision: 0.37037037037037035\n",
            "Recall: 0.5102040816326531\n",
            "F1-Score: 0.42918454935622313\n",
            "Confusion Matrix:\n",
            "[[722  85]\n",
            " [ 48  50]]\n",
            "\n",
            "Performance Metrics for Random Forest:\n",
            "Accuracy: 0.8950276243093923\n",
            "Precision: 0.5223880597014925\n",
            "Recall: 0.35714285714285715\n",
            "F1-Score: 0.4242424242424242\n",
            "Confusion Matrix:\n",
            "[[775  32]\n",
            " [ 63  35]]\n",
            "\n"
          ]
        }
      ],
      "source": [
        "# Required Libraries\n",
        "import pandas as pd\n",
        "import numpy as np\n",
        "import matplotlib.pyplot as plt\n",
        "import seaborn as sns\n",
        "from sklearn.model_selection import train_test_split\n",
        "from sklearn.preprocessing import StandardScaler\n",
        "from sklearn.linear_model import LogisticRegression\n",
        "from sklearn.tree import DecisionTreeClassifier\n",
        "from sklearn.ensemble import RandomForestClassifier\n",
        "from sklearn.metrics import accuracy_score, precision_score, recall_score, f1_score, confusion_matrix\n",
        "from sklearn.pipeline import make_pipeline   # Add this import\n",
        "from imblearn.over_sampling import SMOTE\n",
        "\n",
        "\n",
        "# Load the dataset\n",
        "url = \"/content/bank.csv\"  # Replace with your dataset URL if hosted online\n",
        "data = pd.read_csv(url, delimiter=';')\n",
        "\n",
        "# One-hot encode the categorical columns\n",
        "data_encoded = pd.get_dummies(data, drop_first=True)\n",
        "\n",
        "# Split the data into training and test sets (80% train, 20% test)\n",
        "X = data_encoded.drop('y_yes', axis=1)\n",
        "y = data_encoded['y_yes']\n",
        "X_train, X_test, y_train, y_test = train_test_split(X, y, test_size=0.2, random_state=42)\n",
        "\n",
        "# Apply SMOTE to the training data to handle imbalance\n",
        "smote = SMOTE(random_state=42)\n",
        "X_train_smote, y_train_smote = smote.fit_resample(X_train, y_train)\n",
        "\n",
        "# Logistic Regression\n",
        "logreg = make_pipeline(StandardScaler(), LogisticRegression(random_state=42))\n",
        "logreg.fit(X_train_smote, y_train_smote)\n",
        "y_pred_logreg = logreg.predict(X_test)\n",
        "\n",
        "# Decision Tree\n",
        "dtree = DecisionTreeClassifier(random_state=42)\n",
        "dtree.fit(X_train_smote, y_train_smote)\n",
        "y_pred_dtree = dtree.predict(X_test)\n",
        "\n",
        "# Random Forest\n",
        "rf = RandomForestClassifier(random_state=42)\n",
        "rf.fit(X_train_smote, y_train_smote)\n",
        "y_pred_rf = rf.predict(X_test)\n",
        "\n",
        "# Evaluation\n",
        "models = ['Logistic Regression', 'Decision Tree', 'Random Forest']\n",
        "predictions = [y_pred_logreg, y_pred_dtree, y_pred_rf]\n",
        "\n",
        "for i, model in enumerate(models):\n",
        "    print(f\"Performance Metrics for {model}:\")\n",
        "    print(f\"Accuracy: {accuracy_score(y_test, predictions[i])}\")\n",
        "    print(f\"Precision: {precision_score(y_test, predictions[i])}\")\n",
        "    print(f\"Recall: {recall_score(y_test, predictions[i])}\")\n",
        "    print(f\"F1-Score: {f1_score(y_test, predictions[i])}\")\n",
        "    print(f\"Confusion Matrix:\\n{confusion_matrix(y_test, predictions[i])}\\n\")\n"
      ]
    }
  ]
}