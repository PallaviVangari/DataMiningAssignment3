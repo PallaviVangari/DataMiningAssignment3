{
  "nbformat": 4,
  "nbformat_minor": 0,
  "metadata": {
    "colab": {
      "provenance": [],
      "authorship_tag": "ABX9TyMAVrE1/FuSbw3y9O+pC9WB",
      "include_colab_link": true
    },
    "kernelspec": {
      "name": "python3",
      "display_name": "Python 3"
    },
    "language_info": {
      "name": "python"
    }
  },
  "cells": [
    {
      "cell_type": "markdown",
      "metadata": {
        "id": "view-in-github",
        "colab_type": "text"
      },
      "source": [
        "<a href=\"https://colab.research.google.com/github/PallaviVangari/DataMiningAssignment3/blob/main/CRISP_DM_Online_Retail.ipynb\" target=\"_parent\"><img src=\"https://colab.research.google.com/assets/colab-badge.svg\" alt=\"Open In Colab\"/></a>"
      ]
    },
    {
      "cell_type": "code",
      "execution_count": null,
      "metadata": {
        "colab": {
          "base_uri": "https://localhost:8080/"
        },
        "id": "EKGAZRmcZQMg",
        "outputId": "6d0d6618-df60-40b7-f63b-eff60aa018da"
      },
      "outputs": [
        {
          "output_type": "stream",
          "name": "stderr",
          "text": [
            "/usr/local/lib/python3.10/dist-packages/sklearn/cluster/_kmeans.py:870: FutureWarning: The default value of `n_init` will change from 10 to 'auto' in 1.4. Set the value of `n_init` explicitly to suppress the warning\n",
            "  warnings.warn(\n"
          ]
        },
        {
          "output_type": "stream",
          "name": "stdout",
          "text": [
            "             Frequency  MonetaryValue  Recency  AvgQuantity  AvgPrice  Cluster\n",
            "Customer ID                                                                   \n",
            "12346               11         372.86      165     2.121212  6.253333        3\n",
            "12347                2        1323.32        3    11.661972  2.295070        0\n",
            "12348                1         222.16       74    18.650000  0.719500        0\n",
            "12349                3        2671.14       43     9.735294  8.581765        0\n",
            "12351                1         300.93       11    12.428571  2.355238        0\n"
          ]
        }
      ],
      "source": [
        "# Import necessary libraries\n",
        "import pandas as pd\n",
        "from sklearn.preprocessing import StandardScaler\n",
        "from sklearn.cluster import KMeans\n",
        "\n",
        "# # Mount Google Drive (you'll need to authenticate)\n",
        "# from google.colab import drive\n",
        "# drive.mount('/content/drive')\n",
        "\n",
        "# Adjust the path based on where you've stored the dataset in Google Drive\n",
        "dataset_path = '/content/online_retail_II.xlsx'\n",
        "\n",
        "# Load the data\n",
        "retail_data = pd.read_excel(dataset_path)\n",
        "\n",
        "# Data Preparation\n",
        "\n",
        "# Fill missing descriptions with 'Unknown'\n",
        "retail_data['Description'].fillna('Unknown', inplace=True)\n",
        "\n",
        "# Drop rows where 'Customer ID' is missing\n",
        "retail_data.dropna(subset=['Customer ID'], inplace=True)\n",
        "\n",
        "# Convert Customer ID to integer type\n",
        "retail_data['Customer ID'] = retail_data['Customer ID'].astype(int)\n",
        "\n",
        "# Remove entries with negative quantities\n",
        "retail_data = retail_data[retail_data['Quantity'] > 0]\n",
        "\n",
        "# Feature Engineering for Modeling\n",
        "\n",
        "# Total number of purchases (frequency)\n",
        "frequency = retail_data.groupby('Customer ID')['Invoice'].nunique()\n",
        "\n",
        "# Total amount spent (monetary value)\n",
        "retail_data['TotalCost'] = retail_data['Quantity'] * retail_data['Price']\n",
        "monetary = retail_data.groupby('Customer ID')['TotalCost'].sum()\n",
        "\n",
        "# Duration since the last purchase (recency)\n",
        "latest_purchase = retail_data['InvoiceDate'].max() + pd.Timedelta(days=1)\n",
        "recency = (latest_purchase - retail_data.groupby('Customer ID')['InvoiceDate'].max()).dt.days\n",
        "\n",
        "# Average quantity of products bought\n",
        "avg_quantity = retail_data.groupby('Customer ID')['Quantity'].mean()\n",
        "\n",
        "# Average price of products bought\n",
        "avg_price = retail_data.groupby('Customer ID')['Price'].mean()\n",
        "\n",
        "# Combine features into a single DataFrame\n",
        "customer_data = pd.DataFrame({\n",
        "    'Frequency': frequency,\n",
        "    'MonetaryValue': monetary,\n",
        "    'Recency': recency,\n",
        "    'AvgQuantity': avg_quantity,\n",
        "    'AvgPrice': avg_price\n",
        "})\n",
        "\n",
        "# Scaling the features\n",
        "scaler = StandardScaler()\n",
        "scaled_data = scaler.fit_transform(customer_data)\n",
        "\n",
        "# Applying KMeans clustering\n",
        "kmeans = KMeans(n_clusters=4, random_state=42)\n",
        "clusters = kmeans.fit_predict(scaled_data)\n",
        "\n",
        "# Add cluster assignments to the data\n",
        "customer_data['Cluster'] = clusters\n",
        "\n",
        "# Display the results\n",
        "print(customer_data.head())\n",
        "\n",
        "# You can then analyze the segments as we did above.\n"
      ]
    }
  ]
}