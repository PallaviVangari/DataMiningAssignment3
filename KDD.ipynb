{
  "nbformat": 4,
  "nbformat_minor": 0,
  "metadata": {
    "colab": {
      "provenance": [],
      "authorship_tag": "ABX9TyMtbCM1KOXjAIA7WCz/o51d",
      "include_colab_link": true
    },
    "kernelspec": {
      "name": "python3",
      "display_name": "Python 3"
    },
    "language_info": {
      "name": "python"
    }
  },
  "cells": [
    {
      "cell_type": "markdown",
      "metadata": {
        "id": "view-in-github",
        "colab_type": "text"
      },
      "source": [
        "<a href=\"https://colab.research.google.com/github/PallaviVangari/DataMiningAssignment3/blob/main/KDD.ipynb\" target=\"_parent\"><img src=\"https://colab.research.google.com/assets/colab-badge.svg\" alt=\"Open In Colab\"/></a>"
      ]
    },
    {
      "cell_type": "code",
      "execution_count": null,
      "metadata": {
        "colab": {
          "base_uri": "https://localhost:8080/"
        },
        "id": "QsFm9-zNArVE",
        "outputId": "78bb7a9f-a13e-4a7f-f7e6-3eed76b54ed3"
      },
      "outputs": [
        {
          "output_type": "stream",
          "name": "stdout",
          "text": [
            "Accuracy: 1.0\n",
            "\n",
            "Classification Report:\n",
            "              precision    recall  f1-score   support\n",
            "\n",
            "           0       1.00      1.00      1.00        50\n",
            "           1       1.00      1.00      1.00        34\n",
            "\n",
            "    accuracy                           1.00        84\n",
            "   macro avg       1.00      1.00      1.00        84\n",
            "weighted avg       1.00      1.00      1.00        84\n",
            "\n"
          ]
        }
      ],
      "source": [
        "# Import necessary libraries\n",
        "import pandas as pd\n",
        "import matplotlib.pyplot as plt\n",
        "from sklearn.model_selection import train_test_split\n",
        "from sklearn.linear_model import LogisticRegression\n",
        "from sklearn.metrics import accuracy_score, classification_report\n",
        "\n",
        "# Load the dataset (change the URL to where you've uploaded the dataset in your Colab environment)\n",
        "data_url = '/content/tested.csv'\n",
        "data = pd.read_csv(data_url)\n",
        "\n",
        "# Data Cleaning\n",
        "data['Cabin_Known'] = data['Cabin'].notna().astype('int')\n",
        "data.drop(columns='Cabin', inplace=True)\n",
        "median_age = data['Age'].median()\n",
        "data['Age'].fillna(median_age, inplace=True)\n",
        "median_fare = data['Fare'].median()\n",
        "data['Fare'].fillna(median_fare, inplace=True)\n",
        "\n",
        "# Data Transformation\n",
        "data.drop(columns=['PassengerId', 'Name', 'Ticket'], inplace=True)\n",
        "data = pd.get_dummies(data, columns=['Sex', 'Embarked'], drop_first=True)\n",
        "\n",
        "# Data Mining: Training a Logistic Regression Model\n",
        "X = data.drop('Survived', axis=1)\n",
        "y = data['Survived']\n",
        "X_train, X_test, y_train, y_test = train_test_split(X, y, test_size=0.2, random_state=42)\n",
        "clf = LogisticRegression(max_iter=1000)\n",
        "clf.fit(X_train, y_train)\n",
        "y_pred = clf.predict(X_test)\n",
        "\n",
        "# Model Evaluation\n",
        "accuracy = accuracy_score(y_test, y_pred)\n",
        "class_report = classification_report(y_test, y_pred)\n",
        "print(f\"Accuracy: {accuracy}\\n\")\n",
        "print(\"Classification Report:\")\n",
        "print(class_report)\n"
      ]
    }
  ]
}